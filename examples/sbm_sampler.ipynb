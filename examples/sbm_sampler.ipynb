{
 "cells": [
  {
   "cell_type": "code",
   "execution_count": 1,
   "id": "initial_id",
   "metadata": {},
   "outputs": [],
   "source": [
    "import networkx as nx\n",
    "import numpy as np\n",
    "import pandas as pd\n",
    "import matplotlib.pyplot as plt\n",
    "from numba import njit\n",
    "from scipy import sparse\n",
    "\n",
    "from graph_ml.datasets.polbooks import PolBooks\n",
    "from graph_ml.utils import utils\n",
    "# graph = nx.erdos_renyi_graph(10, 0.2, seed=92)\n",
    "# A = nx.adjacency_matrix(graph)\n",
    "# nx.draw(graph)\n",
    "# np.array(A.todense())"
   ]
  },
  {
   "cell_type": "code",
   "execution_count": 2,
   "id": "1728d029",
   "metadata": {
    "scrolled": true
   },
   "outputs": [
    {
     "name": "stderr",
     "output_type": "stream",
     "text": [
      "Downloading https://websites.umich.edu/~mejn/netdata/polbooks.zip\n",
      "Extracting /tmp/polbooks.zip\n",
      "Using existing file polbooks.zip\n",
      "Extracting /tmp/polbooks.zip\n"
     ]
    },
    {
     "data": {
      "text/plain": [
       "(array([[0, 1, 1, ..., 0, 0, 0],\n",
       "        [1, 0, 0, ..., 0, 0, 0],\n",
       "        [1, 0, 0, ..., 0, 0, 0],\n",
       "        ...,\n",
       "        [0, 0, 0, ..., 0, 0, 0],\n",
       "        [0, 0, 0, ..., 0, 0, 1],\n",
       "        [0, 0, 0, ..., 0, 1, 0]]),\n",
       " array([0, 1, 1, 1, 0, 1, 0, 0, 1, 1, 1, 1, 1, 1, 1, 1, 1, 1, 0, 1, 1, 1,\n",
       "        1, 1, 1, 1, 1, 1, 0, 1, 2, 2, 1, 1, 1, 1, 1, 1, 1, 1, 1, 1, 1, 1,\n",
       "        1, 1, 0, 1, 0, 1, 1, 0, 1, 1, 1, 1, 1, 1, 1, 2, 2, 2, 2, 2, 2, 2,\n",
       "        2, 2, 2, 0, 2, 2, 2, 2, 2, 2, 0, 1, 2, 2, 2, 2, 2, 2, 2, 2, 2, 2,\n",
       "        2, 2, 2, 2, 2, 2, 2, 2, 2, 2, 2, 2, 2, 2, 2, 0, 0]))"
      ]
     },
     "execution_count": 2,
     "metadata": {},
     "output_type": "execute_result"
    }
   ],
   "source": [
    "A, group_membership = PolBooks().adj, PolBooks().y\n",
    "A.toarray(), group_membership"
   ]
  },
  {
   "cell_type": "code",
   "execution_count": 3,
   "id": "7f055f5b",
   "metadata": {},
   "outputs": [
    {
     "data": {
      "text/plain": [
       "array([0, 1, 1, 1, 0, 1, 0, 0, 1, 1, 1, 1, 1, 1, 1, 1, 1, 1, 0, 1, 1, 1,\n",
       "       1, 1, 1, 1, 1, 1, 0, 1, 2, 2, 1, 1, 1, 1, 1, 1, 1, 1, 1, 1, 1, 1,\n",
       "       1, 1, 0, 1, 0, 1, 1, 0, 1, 1, 1, 1, 1, 1, 1, 2, 2, 2, 2, 2, 2, 2,\n",
       "       2, 2, 2, 0, 2, 2, 2, 2, 2, 2, 0, 1, 2, 2, 2, 2, 2, 2, 2, 2, 2, 2,\n",
       "       2, 2, 2, 2, 2, 2, 2, 2, 2, 2, 2, 2, 2, 2, 2, 0, 0])"
      ]
     },
     "execution_count": 3,
     "metadata": {},
     "output_type": "execute_result"
    }
   ],
   "source": [
    "window_length = 10\n",
    "dcsbm = True\n",
    "group_membership = np.unique(group_membership, return_inverse=True)[1]\n",
    "group_membership"
   ]
  },
  {
   "cell_type": "code",
   "execution_count": 4,
   "id": "4d6da668",
   "metadata": {},
   "outputs": [],
   "source": [
    "n_nodes = A.shape[0]\n",
    "node2group = utils.to_member_matrix(group_membership)"
   ]
  },
  {
   "cell_type": "code",
   "execution_count": 5,
   "id": "c91bdacb",
   "metadata": {},
   "outputs": [],
   "source": [
    "indeg = np.array(A.sum(axis=1)).reshape(-1)\n",
    "Lambda = (node2group.T @ A @ node2group).toarray()\n",
    "Din = np.array(np.sum(Lambda, axis=0)).reshape(-1)\n",
    "Nin = np.array(node2group.sum(axis=0)).reshape(-1)\n",
    "Psbm = np.einsum('ij,i->ij', Lambda, 1 / np.maximum(1, np.array(np.sum(Lambda, axis=1))))\n",
    "Psbm_pow = utils.matrix_sum_power(Psbm, window_length) / window_length\n",
    "\n",
    "block2node = (\n",
    "    sparse.diags(1 / np.maximum(1, Din))\n",
    "    @ sparse.csr_matrix(\n",
    "        node2group.T\n",
    "    )\n",
    "    @ sparse.diags(indeg)\n",
    ")\n",
    "\n",
    "\n"
   ]
  },
  {
   "cell_type": "code",
   "execution_count": 6,
   "id": "aa9f7860",
   "metadata": {},
   "outputs": [],
   "source": [
    "block2block = sparse.csr_matrix(\n",
    "    Psbm_pow\n",
    ")\n",
    "block2block.data = utils.csr_row_cumsum(block2block.indptr, block2block.data)\n",
    "\n",
    "block2node.data = utils.csr_row_cumsum(block2node.indptr, block2node.data)"
   ]
  },
  {
   "cell_type": "code",
   "execution_count": 9,
   "id": "9c32f3b6",
   "metadata": {},
   "outputs": [
    {
     "data": {
      "text/plain": [
       "(3, 105)"
      ]
     },
     "execution_count": 9,
     "metadata": {},
     "output_type": "execute_result"
    }
   ],
   "source": [
    "block2node.toarray().shape"
   ]
  },
  {
   "cell_type": "code",
   "execution_count": 10,
   "id": "846a016e",
   "metadata": {},
   "outputs": [
    {
     "data": {
      "text/plain": [
       "array([[0.10477346, 0.60810079, 1.        ],\n",
       "       [0.08979549, 0.8052493 , 1.        ],\n",
       "       [0.07837984, 0.29670563, 1.        ]])"
      ]
     },
     "execution_count": 10,
     "metadata": {},
     "output_type": "execute_result"
    }
   ],
   "source": [
    "block2block.toarray()"
   ]
  },
  {
   "cell_type": "code",
   "execution_count": null,
   "id": "881a4efc",
   "metadata": {},
   "outputs": [],
   "source": []
  }
 ],
 "metadata": {
  "kernelspec": {
   "display_name": "Python 3 (ipykernel)",
   "language": "python",
   "name": "python3"
  },
  "language_info": {
   "codemirror_mode": {
    "name": "ipython",
    "version": 3
   },
   "file_extension": ".py",
   "mimetype": "text/x-python",
   "name": "python",
   "nbconvert_exporter": "python",
   "pygments_lexer": "ipython3",
   "version": "3.10.12"
  }
 },
 "nbformat": 4,
 "nbformat_minor": 5
}
