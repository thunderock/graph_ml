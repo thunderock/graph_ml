{
 "cells": [
  {
   "cell_type": "code",
   "execution_count": 1,
   "id": "initial_id",
   "metadata": {},
   "outputs": [],
   "source": [
    "import networkx as nx\n",
    "import numpy as np\n",
    "import pandas as pd\n",
    "import matplotlib.pyplot as plt\n",
    "from numba import njit\n",
    "from scipy import sparse\n",
    "\n",
    "from graph_ml.datasets.polbooks import PolBooks\n",
    "from graph_ml.utils import utils\n",
    "# graph = nx.erdos_renyi_graph(10, 0.2, seed=92)\n",
    "# A = nx.adjacency_matrix(graph)\n",
    "# nx.draw(graph)\n",
    "# np.array(A.todense())"
   ]
  },
  {
   "cell_type": "code",
   "execution_count": 2,
   "id": "1728d029",
   "metadata": {
    "scrolled": true
   },
   "outputs": [
    {
     "name": "stderr",
     "output_type": "stream",
     "text": [
      "Using existing file polbooks.zip\n",
      "Extracting /tmp/polbooks.zip\n",
      "Using existing file polbooks.zip\n",
      "Extracting /tmp/polbooks.zip\n"
     ]
    },
    {
     "data": {
      "text/plain": [
       "(array([[0, 1, 1, ..., 0, 0, 0],\n",
       "        [1, 0, 0, ..., 0, 0, 0],\n",
       "        [1, 0, 0, ..., 0, 0, 0],\n",
       "        ...,\n",
       "        [0, 0, 0, ..., 0, 0, 0],\n",
       "        [0, 0, 0, ..., 0, 0, 1],\n",
       "        [0, 0, 0, ..., 0, 1, 0]]),\n",
       " array([0, 1, 1, 1, 0, 1, 0, 0, 1, 1, 1, 1, 1, 1, 1, 1, 1, 1, 0, 1, 1, 1,\n",
       "        1, 1, 1, 1, 1, 1, 0, 1, 2, 2, 1, 1, 1, 1, 1, 1, 1, 1, 1, 1, 1, 1,\n",
       "        1, 1, 0, 1, 0, 1, 1, 0, 1, 1, 1, 1, 1, 1, 1, 2, 2, 2, 2, 2, 2, 2,\n",
       "        2, 2, 2, 0, 2, 2, 2, 2, 2, 2, 0, 1, 2, 2, 2, 2, 2, 2, 2, 2, 2, 2,\n",
       "        2, 2, 2, 2, 2, 2, 2, 2, 2, 2, 2, 2, 2, 2, 2, 0, 0]))"
      ]
     },
     "execution_count": 2,
     "metadata": {},
     "output_type": "execute_result"
    }
   ],
   "source": [
    "A, group_membership = PolBooks().adj, PolBooks().y\n",
    "A.toarray(), group_membership"
   ]
  },
  {
   "cell_type": "code",
   "execution_count": 3,
   "id": "7f055f5b",
   "metadata": {},
   "outputs": [
    {
     "data": {
      "text/plain": [
       "array([0, 1, 1, 1, 0, 1, 0, 0, 1, 1, 1, 1, 1, 1, 1, 1, 1, 1, 0, 1, 1, 1,\n",
       "       1, 1, 1, 1, 1, 1, 0, 1, 2, 2, 1, 1, 1, 1, 1, 1, 1, 1, 1, 1, 1, 1,\n",
       "       1, 1, 0, 1, 0, 1, 1, 0, 1, 1, 1, 1, 1, 1, 1, 2, 2, 2, 2, 2, 2, 2,\n",
       "       2, 2, 2, 0, 2, 2, 2, 2, 2, 2, 0, 1, 2, 2, 2, 2, 2, 2, 2, 2, 2, 2,\n",
       "       2, 2, 2, 2, 2, 2, 2, 2, 2, 2, 2, 2, 2, 2, 2, 0, 0])"
      ]
     },
     "execution_count": 3,
     "metadata": {},
     "output_type": "execute_result"
    }
   ],
   "source": [
    "window_length = 10\n",
    "dcsbm = True\n",
    "group_membership = np.unique(group_membership, return_inverse=True)[1]\n",
    "group_membership"
   ]
  },
  {
   "cell_type": "code",
   "execution_count": 4,
   "id": "4d6da668",
   "metadata": {},
   "outputs": [],
   "source": [
    "n_nodes = A.shape[0]\n",
    "node2group = utils.to_member_matrix(group_membership)"
   ]
  },
  {
   "cell_type": "code",
   "execution_count": 5,
   "id": "dc556e63",
   "metadata": {},
   "outputs": [
    {
     "data": {
      "text/plain": [
       "array([ 6,  4,  4, 23,  8,  7, 11,  8, 25, 16, 15, 18, 25, 13,  9,  5,  3,\n",
       "        5,  3,  5, 10,  5,  7,  9,  9,  5,  9,  9,  3,  4, 20, 11,  5,  9,\n",
       "        5, 10,  5,  7,  7,  8, 18,  8,  6,  5,  5,  6,  4, 18,  4,  8,  3,\n",
       "        6,  5,  5,  6,  4,  4,  5, 13,  5,  6,  4,  6,  4,  9,  7, 21,  6,\n",
       "        4,  5,  7, 15, 22, 21, 16, 16, 13,  7,  5,  8,  4,  4,  9,  8, 23,\n",
       "        5, 14,  5,  5,  6,  5,  8,  3,  7,  7,  4,  6,  6,  5, 12, 12,  5,\n",
       "        4,  2,  3])"
      ]
     },
     "execution_count": 5,
     "metadata": {},
     "output_type": "execute_result"
    }
   ],
   "source": [
    "indeg = np.array(A.sum(axis=1)).reshape(-1)\n",
    "indeg"
   ]
  },
  {
   "cell_type": "code",
   "execution_count": 6,
   "id": "c91bdacb",
   "metadata": {},
   "outputs": [],
   "source": [
    "\n",
    "Lambda = (node2group.T @ A @ node2group).toarray()\n",
    "Din = np.array(np.sum(Lambda, axis=0)).reshape(-1)\n",
    "Nin = np.array(node2group.sum(axis=0)).reshape(-1)\n",
    "Psbm = np.einsum('ij,i->ij', Lambda, 1 / np.maximum(1, np.array(np.sum(Lambda, axis=1))))\n",
    "Psbm_pow = utils.matrix_sum_power(Psbm, window_length) / window_length\n",
    "\n",
    "block2node = (\n",
    "    sparse.diags(1 / np.maximum(1, Din))\n",
    "    @ sparse.csr_matrix(\n",
    "        node2group.T\n",
    "    )\n",
    "    @ sparse.diags(indeg)\n",
    ")\n",
    "\n",
    "\n"
   ]
  },
  {
   "cell_type": "code",
   "execution_count": 7,
   "id": "aa9f7860",
   "metadata": {},
   "outputs": [],
   "source": [
    "block2block = sparse.csr_matrix(\n",
    "    Psbm_pow\n",
    ")\n",
    "block2block.data = utils.csr_row_cumsum(block2block.indptr, block2block.data)\n",
    "\n",
    "block2node.data = utils.csr_row_cumsum(block2node.indptr, block2node.data)"
   ]
  },
  {
   "cell_type": "code",
   "execution_count": 8,
   "id": "9c32f3b6",
   "metadata": {},
   "outputs": [
    {
     "data": {
      "text/plain": [
       "(3, 105)"
      ]
     },
     "execution_count": 8,
     "metadata": {},
     "output_type": "execute_result"
    }
   ],
   "source": [
    "block2node.toarray().shape"
   ]
  },
  {
   "cell_type": "code",
   "execution_count": 9,
   "id": "846a016e",
   "metadata": {},
   "outputs": [
    {
     "data": {
      "text/plain": [
       "array([[0.10477346, 0.60810079, 1.        ],\n",
       "       [0.08979549, 0.8052493 , 1.        ],\n",
       "       [0.07837984, 0.29670563, 1.        ]])"
      ]
     },
     "execution_count": 9,
     "metadata": {},
     "output_type": "execute_result"
    }
   ],
   "source": [
    "block2block.toarray()"
   ]
  },
  {
   "cell_type": "code",
   "execution_count": 10,
   "id": "881a4efc",
   "metadata": {},
   "outputs": [],
   "source": [
    "from graph_ml.transformations import samplers"
   ]
  },
  {
   "cell_type": "code",
   "execution_count": 11,
   "id": "6b572a03",
   "metadata": {},
   "outputs": [
    {
     "name": "stdout",
     "output_type": "stream",
     "text": [
      "type A  <class 'scipy.sparse._csr.csr_array'>   (0, 1)\t1\n",
      "  (0, 2)\t1\n",
      "  (0, 3)\t1\n",
      "  (0, 4)\t1\n",
      "  (0, 5)\t1\n",
      "  (0, 6)\t1\n",
      "  (1, 0)\t1\n",
      "  (1, 3)\t1\n",
      "  (1, 5)\t1\n",
      "  (1, 6)\t1\n",
      "  (2, 0)\t1\n",
      "  (2, 4)\t1\n",
      "  (2, 5)\t1\n",
      "  (2, 7)\t1\n",
      "  (3, 0)\t1\n",
      "  (3, 1)\t1\n",
      "  (3, 5)\t1\n",
      "  (3, 8)\t1\n",
      "  (3, 9)\t1\n",
      "  (3, 10)\t1\n",
      "  (3, 11)\t1\n",
      "  (3, 12)\t1\n",
      "  (3, 13)\t1\n",
      "  (3, 14)\t1\n",
      "  (3, 15)\t1\n",
      "  :\t:\n",
      "  (100, 66)\t1\n",
      "  (100, 73)\t1\n",
      "  (100, 79)\t1\n",
      "  (100, 83)\t1\n",
      "  (100, 84)\t1\n",
      "  (100, 86)\t1\n",
      "  (100, 91)\t1\n",
      "  (100, 96)\t1\n",
      "  (100, 98)\t1\n",
      "  (100, 99)\t1\n",
      "  (100, 101)\t1\n",
      "  (101, 61)\t1\n",
      "  (101, 84)\t1\n",
      "  (101, 86)\t1\n",
      "  (101, 94)\t1\n",
      "  (101, 100)\t1\n",
      "  (102, 46)\t1\n",
      "  (102, 93)\t1\n",
      "  (102, 94)\t1\n",
      "  (102, 95)\t1\n",
      "  (103, 67)\t1\n",
      "  (103, 104)\t1\n",
      "  (104, 67)\t1\n",
      "  (104, 69)\t1\n",
      "  (104, 103)\t1\n"
     ]
    },
    {
     "data": {
      "text/plain": [
       "<graph_ml.transformations.samplers.SbmNodeSampler at 0x31f58ed40>"
      ]
     },
     "execution_count": 11,
     "metadata": {},
     "output_type": "execute_result"
    }
   ],
   "source": [
    "sampler = samplers.SbmNodeSampler(group_membership=group_membership, dcsbm=dcsbm)\n",
    "sampler.fit(A)"
   ]
  },
  {
   "cell_type": "code",
   "execution_count": 12,
   "id": "f598cc45",
   "metadata": {},
   "outputs": [
    {
     "data": {
      "text/plain": [
       "(3, 3)"
      ]
     },
     "execution_count": 12,
     "metadata": {},
     "output_type": "execute_result"
    }
   ],
   "source": [
    "sampler.block2block.shape"
   ]
  },
  {
   "cell_type": "code",
   "execution_count": 13,
   "id": "e6491613",
   "metadata": {},
   "outputs": [
    {
     "data": {
      "text/plain": [
       "(3, 105)"
      ]
     },
     "execution_count": 13,
     "metadata": {},
     "output_type": "execute_result"
    }
   ],
   "source": [
    "sampler.block2node.shape"
   ]
  },
  {
   "cell_type": "code",
   "execution_count": 14,
   "id": "bea8e53c",
   "metadata": {},
   "outputs": [
    {
     "data": {
      "text/plain": [
       "(105, 3)"
      ]
     },
     "execution_count": 14,
     "metadata": {},
     "output_type": "execute_result"
    }
   ],
   "source": [
    "sampler.node2group.shape"
   ]
  },
  {
   "cell_type": "code",
   "execution_count": 15,
   "id": "3b2c1873",
   "metadata": {},
   "outputs": [
    {
     "data": {
      "text/plain": [
       "array([ 38,  47,  12,  47,  12,  99,  25,  15,  35,  11,  58,  77,  47,\n",
       "        11,  17,  96,  81,  37,   3,  40,  12,  42,  29,  23,  32,  29,\n",
       "        37,  40,   1,   3,  84,  30,  12,  35,  62,  35,  84,   9,  53,\n",
       "        19,  11,  55,   3,  72,  15,  13,  31,   7,  84,   5,  74,  11,\n",
       "         1,  82,   3,  24,  43,  88,  40,  81,  36,  86,  72,  82,  75,\n",
       "        47,  94,  99,  86,  47,  20,  70,  66,  87,  71,  30,   8,   9,\n",
       "        95,  70,  20,  75,  31,  72,  27,  75,  84,  68,  12,  64, 100,\n",
       "        81,   7,  82,  97,  62,  70,  94,  86, 102,  60,  94, 101,   8,\n",
       "        48])"
      ]
     },
     "execution_count": 15,
     "metadata": {},
     "output_type": "execute_result"
    }
   ],
   "source": [
    "centers = np.arange(105)\n",
    "sampler.sample(centers, 10, 10)"
   ]
  },
  {
   "cell_type": "code",
   "execution_count": 18,
   "id": "a333de70",
   "metadata": {},
   "outputs": [
    {
     "data": {
      "text/plain": [
       "(105,)"
      ]
     },
     "execution_count": 18,
     "metadata": {},
     "output_type": "execute_result"
    }
   ],
   "source": [
    "sampler.sample(centers, 10, 10).shape"
   ]
  },
  {
   "cell_type": "code",
   "execution_count": 19,
   "id": "46fca2d2",
   "metadata": {},
   "outputs": [
    {
     "data": {
      "text/plain": [
       "array([  0,   1,   2,   3,   4,   5,   6,   7,   8,   9,  10,  11,  12,\n",
       "        13,  14,  15,  16,  17,  18,  19,  20,  21,  22,  23,  24,  25,\n",
       "        26,  27,  28,  29,  30,  31,  32,  33,  34,  35,  36,  37,  38,\n",
       "        39,  40,  41,  42,  43,  44,  45,  46,  47,  48,  49,  50,  51,\n",
       "        52,  53,  54,  55,  56,  57,  58,  59,  60,  61,  62,  63,  64,\n",
       "        65,  66,  67,  68,  69,  70,  71,  72,  73,  74,  75,  76,  77,\n",
       "        78,  79,  80,  81,  82,  83,  84,  85,  86,  87,  88,  89,  90,\n",
       "        91,  92,  93,  94,  95,  96,  97,  98,  99, 100, 101, 102, 103,\n",
       "       104])"
      ]
     },
     "execution_count": 19,
     "metadata": {},
     "output_type": "execute_result"
    }
   ],
   "source": [
    "centers"
   ]
  },
  {
   "cell_type": "code",
   "execution_count": null,
   "id": "15a06608",
   "metadata": {},
   "outputs": [],
   "source": []
  }
 ],
 "metadata": {
  "kernelspec": {
   "display_name": "Python 3 (ipykernel)",
   "language": "python",
   "name": "python3"
  },
  "language_info": {
   "codemirror_mode": {
    "name": "ipython",
    "version": 3
   },
   "file_extension": ".py",
   "mimetype": "text/x-python",
   "name": "python",
   "nbconvert_exporter": "python",
   "pygments_lexer": "ipython3",
   "version": "3.10.12"
  }
 },
 "nbformat": 4,
 "nbformat_minor": 5
}
